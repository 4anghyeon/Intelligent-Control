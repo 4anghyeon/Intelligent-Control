{
  "nbformat": 4,
  "nbformat_minor": 0,
  "metadata": {
    "colab": {
      "name": "지능텀프_CNN.ipynb",
      "provenance": [],
      "collapsed_sections": []
    },
    "kernelspec": {
      "name": "python3",
      "display_name": "Python 3"
    },
    "accelerator": "GPU"
  },
  "cells": [
    {
      "cell_type": "markdown",
      "metadata": {
        "id": "DQFkByRND0VH",
        "colab_type": "text"
      },
      "source": [
        "데이터 불러오기"
      ]
    },
    {
      "cell_type": "code",
      "metadata": {
        "id": "RrQk4EH1-MiA",
        "colab_type": "code",
        "outputId": "48a22f6a-a2d8-4392-aea6-b7bd6ccb8775",
        "colab": {
          "base_uri": "https://localhost:8080/",
          "height": 127
        }
      },
      "source": [
        "from google.colab import drive\n",
        "drive.mount('/gdrive')\n",
        "import pandas as pd\n",
        "import numpy as np\n",
        "import torch\n",
        "\n",
        "device = 'cuda' if torch.cuda.is_available() else 'cpu'\n",
        "\n",
        "df0011 = pd.read_csv('/gdrive/My Drive/Intelligent Control/TERM PROJECT/P0-W0/Amp11.csv', header=None)\n",
        "x_np0011 = np.transpose(np.array(df0011)) # 데이터샘플 데이터를 numpy array로 변환\n",
        "y_np0011 = np.zeros(len(x_np0011))        # 타겟레이블 len() >  행의 개수 가져옴\n",
        "\n",
        "df0012 = pd.read_csv('/gdrive/My Drive/Intelligent Control/TERM PROJECT/P0-W0/Amp12.csv', header=None)\n",
        "x_np0012 = np.transpose(np.array(df0012)) # 데이터샘플\n",
        "y_np0012 = np.zeros(len(x_np0012))         # 타겟레이블\n",
        "\n",
        "df0013 = pd.read_csv('/gdrive/My Drive/Intelligent Control/TERM PROJECT/P0-W0/Amp13.csv', header=None)\n",
        "x_np0013 = np.transpose(np.array(df0013)) # 데이터샘플\n",
        "y_np0013 = np.zeros(len(x_np0013))         # 타겟레이블\n",
        "\n",
        "df0021 = pd.read_csv('/gdrive/My Drive/Intelligent Control/TERM PROJECT/P0-W0/Amp21.csv', header=None)\n",
        "x_np0021 = np.transpose(np.array(df0021)) # 데이터샘플\n",
        "y_np0021 = np.zeros(len(x_np0021))         # 타겟레이블\n",
        "\n",
        "df0022 = pd.read_csv('/gdrive/My Drive/Intelligent Control/TERM PROJECT/P0-W0/Amp22.csv', header=None)\n",
        "x_np0022 = np.transpose(np.array(df0022)) # 데이터샘플\n",
        "y_np0022 = np.zeros(len(x_np0022))         # 타겟레이블\n",
        "\n",
        "df0023 = pd.read_csv('/gdrive/My Drive/Intelligent Control/TERM PROJECT/P0-W0/Amp23.csv', header=None)\n",
        "x_np0023 = np.transpose(np.array(df0023)) # 데이터샘플\n",
        "y_np0023 = np.zeros(len(x_np0023))         # 타겟레이블\n",
        "\n",
        "df0031 = pd.read_csv('/gdrive/My Drive/Intelligent Control/TERM PROJECT/P0-W0/Amp31.csv', header=None)\n",
        "x_np0031 = np.transpose(np.array(df0031)) # 데이터샘플\n",
        "y_np0031 = np.zeros(len(x_np0031))         # 타겟레이블\n",
        "\n",
        "df0032 = pd.read_csv('/gdrive/My Drive/Intelligent Control/TERM PROJECT/P0-W0/Amp32.csv', header=None)\n",
        "x_np0032 = np.transpose(np.array(df0032)) # 데이터샘플\n",
        "y_np0032 = np.zeros(len(x_np0032))         # 타겟레이블\n",
        "\n",
        "df0033 = pd.read_csv('/gdrive/My Drive/Intelligent Control/TERM PROJECT/P0-W0/Amp33.csv', header=None)\n",
        "x_np0033 = np.transpose(np.array(df0033)) # 데이터샘플\n",
        "y_np0033 = np.zeros(len(x_np0033))         # 타겟레이블\n",
        "\n",
        "################################################################################\n",
        "\n",
        "df1111 = pd.read_csv('/gdrive/My Drive/Intelligent Control/TERM PROJECT/P1-W1/Amp11.csv', header=None)\n",
        "x_np1111 = np.transpose(np.array(df1111)) # 데이터샘플\n",
        "y_np1111 = np.ones(len(x_np1111))         # 타겟레이블\n",
        "\n",
        "df1112 = pd.read_csv('/gdrive/My Drive/Intelligent Control/TERM PROJECT/P1-W1/Amp12.csv', header=None)\n",
        "x_np1112 = np.transpose(np.array(df1112)) # 데이터샘플\n",
        "y_np1112 = np.ones(len(x_np1112))         # 타겟레이블\n",
        "\n",
        "df1113 = pd.read_csv('/gdrive/My Drive/Intelligent Control/TERM PROJECT/P1-W1/Amp13.csv', header=None)\n",
        "x_np1113 = np.transpose(np.array(df1113)) # 데이터샘플\n",
        "y_np1113 = np.ones(len(x_np1113))         # 타겟레이블\n",
        "\n",
        "df1121 = pd.read_csv('/gdrive/My Drive/Intelligent Control/TERM PROJECT/P1-W1/Amp21.csv', header=None)\n",
        "x_np1121 = np.transpose(np.array(df1121)) # 데이터샘플\n",
        "y_np1121 = np.ones(len(x_np1121))         # 타겟레이블\n",
        "\n",
        "df1122 = pd.read_csv('/gdrive/My Drive/Intelligent Control/TERM PROJECT/P1-W1/Amp22.csv', header=None)\n",
        "x_np1122 = np.transpose(np.array(df1122)) # 데이터샘플\n",
        "y_np1122 = np.ones(len(x_np1122))         # 타겟레이블\n",
        "\n",
        "df1123 = pd.read_csv('/gdrive/My Drive/Intelligent Control/TERM PROJECT/P1-W1/Amp23.csv', header=None)\n",
        "x_np1123 = np.transpose(np.array(df1123)) # 데이터샘플\n",
        "y_np1123 = np.ones(len(x_np1123))         # 타겟레이블\n",
        "\n",
        "df1131 = pd.read_csv('/gdrive/My Drive/Intelligent Control/TERM PROJECT/P1-W1/Amp31.csv', header=None)\n",
        "x_np1131 = np.transpose(np.array(df1131)) # 데이터샘플\n",
        "y_np1131 = np.ones(len(x_np1131))         # 타겟레이블\n",
        "\n",
        "df1132 = pd.read_csv('/gdrive/My Drive/Intelligent Control/TERM PROJECT/P1-W1/Amp32.csv', header=None)\n",
        "x_np1132 = np.transpose(np.array(df1132)) # 데이터샘플\n",
        "y_np1132 = np.ones(len(x_np1132))         # 타겟레이블\n",
        "\n",
        "df1133 = pd.read_csv('/gdrive/My Drive/Intelligent Control/TERM PROJECT/P1-W1/Amp33.csv', header=None)\n",
        "x_np1133 = np.transpose(np.array(df1133)) # 데이터샘플\n",
        "y_np1133 = np.ones(len(x_np1133))         # 타겟레이블\n",
        "\n",
        "##########################################################################\n",
        "\n",
        "df9711 = pd.read_csv('/gdrive/My Drive/Intelligent Control/TERM PROJECT/P9-W7/Amp11.csv', header=None)\n",
        "x_np9711 = np.transpose(np.array(df9711)) # 데이터샘플\n",
        "y_np9711 = 2*(np.ones(len(x_np9711)))      # 타겟레이블\n",
        "\n",
        "df9712 = pd.read_csv('/gdrive/My Drive/Intelligent Control/TERM PROJECT/P9-W7/Amp12.csv', header=None)\n",
        "x_np9712 = np.transpose(np.array(df9712)) # 데이터샘플\n",
        "y_np9712 = 2*(np.ones(len(x_np9712)))       # 타겟레이블\n",
        "\n",
        "df9713 = pd.read_csv('/gdrive/My Drive/Intelligent Control/TERM PROJECT/P9-W7/Amp13.csv', header=None)\n",
        "x_np9713 = np.transpose(np.array(df9713)) # 데이터샘플\n",
        "y_np9713 = 2*(np.ones(len(x_np9713)))        # 타겟레이블\n",
        "\n",
        "df9721 = pd.read_csv('/gdrive/My Drive/Intelligent Control/TERM PROJECT/P9-W7/Amp21.csv', header=None)\n",
        "x_np9721 = np.transpose(np.array(df9721)) # 데이터샘플\n",
        "y_np9721 = 2*(np.ones(len(x_np9721)))         # 타겟레이블\n",
        "\n",
        "df9722 = pd.read_csv('/gdrive/My Drive/Intelligent Control/TERM PROJECT/P9-W7/Amp22.csv', header=None)\n",
        "x_np9722 = np.transpose(np.array(df9722)) # 데이터샘플\n",
        "y_np9722 = 2*(np.ones(len(x_np9722)))         # 타겟레이블\n",
        "\n",
        "df9723 = pd.read_csv('/gdrive/My Drive/Intelligent Control/TERM PROJECT/P9-W7/Amp23.csv', header=None)\n",
        "x_np9723 = np.transpose(np.array(df9723)) # 데이터샘플\n",
        "y_np9723 = 2*(np.ones(len(x_np9723)))         # 타겟레이블\n",
        "\n",
        "df9731 = pd.read_csv('/gdrive/My Drive/Intelligent Control/TERM PROJECT/P9-W7/Amp31.csv', header=None)\n",
        "x_np9731 = np.transpose(np.array(df9731)) # 데이터샘플\n",
        "y_np9731 = 2*(np.ones(len(x_np9731)))         # 타겟레이블\n",
        "\n",
        "df9732 = pd.read_csv('/gdrive/My Drive/Intelligent Control/TERM PROJECT/P9-W7/Amp32.csv', header=None)\n",
        "x_np9732 = np.transpose(np.array(df9732)) # 데이터샘플\n",
        "y_np9732 = 2*(np.ones(len(x_np9732)))         # 타겟레이블\n",
        "\n",
        "df9733 = pd.read_csv('/gdrive/My Drive/Intelligent Control/TERM PROJECT/P9-W7/Amp33.csv', header=None)\n",
        "x_np9733 = np.transpose(np.array(df9733)) # 데이터샘플\n",
        "y_np9733 = 2*(np.ones(len(x_np9733)))         # 타겟레이블\n",
        "\n",
        "#############################################################\n",
        "\n",
        "df14011 = pd.read_csv('/gdrive/My Drive/Intelligent Control/TERM PROJECT/P14-W0/Amp11.csv', header=None)\n",
        "x_np14011 = np.transpose(np.array(df14011)) # 데이터샘플\n",
        "y_np14011 = 3*(np.ones(len(x_np14011)))         # 타겟레이블\n",
        "\n",
        "df14012 = pd.read_csv('/gdrive/My Drive/Intelligent Control/TERM PROJECT/P14-W0/Amp12.csv', header=None)\n",
        "x_np14012 = np.transpose(np.array(df14012)) # 데이터샘플\n",
        "y_np14012 = 3*(np.ones(len(x_np14012)))         # 타겟레이블\n",
        "\n",
        "df14013 = pd.read_csv('/gdrive/My Drive/Intelligent Control/TERM PROJECT/P14-W0/Amp13.csv', header=None)\n",
        "x_np14013 = np.transpose(np.array(df14013)) # 데이터샘플\n",
        "y_np14013 = 3*(np.ones(len(x_np14013)))         # 타겟레이블\n",
        "\n",
        "df14021 = pd.read_csv('/gdrive/My Drive/Intelligent Control/TERM PROJECT/P14-W0/Amp21.csv', header=None)\n",
        "x_np14021 = np.transpose(np.array(df14021)) # 데이터샘플\n",
        "y_np14021 = 3*(np.ones(len(x_np14021)))         # 타겟레이블\n",
        "\n",
        "df14022 = pd.read_csv('/gdrive/My Drive/Intelligent Control/TERM PROJECT/P14-W0/Amp22.csv', header=None)\n",
        "x_np14022 = np.transpose(np.array(df14022)) # 데이터샘플\n",
        "y_np14022 = 3*(np.ones(len(x_np14022)))         # 타겟레이블\n",
        "\n",
        "df14023 = pd.read_csv('/gdrive/My Drive/Intelligent Control/TERM PROJECT/P14-W0/Amp23.csv', header=None)\n",
        "x_np14023 = np.transpose(np.array(df14023)) # 데이터샘플\n",
        "y_np14023 = 3*(np.ones(len(x_np14023)))         # 타겟레이블\n",
        "\n",
        "df14031 = pd.read_csv('/gdrive/My Drive/Intelligent Control/TERM PROJECT/P14-W0/Amp31.csv', header=None)\n",
        "x_np14031 = np.transpose(np.array(df14031)) # 데이터샘플\n",
        "y_np14031 = 3*(np.ones(len(x_np14031)))         # 타겟레이블\n",
        "\n",
        "df14032 = pd.read_csv('/gdrive/My Drive/Intelligent Control/TERM PROJECT/P14-W0/Amp32.csv', header=None)\n",
        "x_np14032 = np.transpose(np.array(df14032)) # 데이터샘플\n",
        "y_np14032 = 3*(np.ones(len(x_np14032)))         # 타겟레이블\n",
        "\n",
        "df14033 = pd.read_csv('/gdrive/My Drive/Intelligent Control/TERM PROJECT/P14-W0/Amp33.csv', header=None)\n",
        "x_np14033 = np.transpose(np.array(df14033)) # 데이터샘플\n",
        "y_np14033 = 3*(np.ones(len(x_np14033)))         # 타겟레이블"
      ],
      "execution_count": 1,
      "outputs": [
        {
          "output_type": "stream",
          "text": [
            "Go to this URL in a browser: https://accounts.google.com/o/oauth2/auth?client_id=947318989803-6bn6qk8qdgf4n4g3pfee6491hc0brc4i.apps.googleusercontent.com&redirect_uri=urn%3aietf%3awg%3aoauth%3a2.0%3aoob&response_type=code&scope=email%20https%3a%2f%2fwww.googleapis.com%2fauth%2fdocs.test%20https%3a%2f%2fwww.googleapis.com%2fauth%2fdrive%20https%3a%2f%2fwww.googleapis.com%2fauth%2fdrive.photos.readonly%20https%3a%2f%2fwww.googleapis.com%2fauth%2fpeopleapi.readonly\n",
            "\n",
            "Enter your authorization code:\n",
            "··········\n",
            "Mounted at /gdrive\n"
          ],
          "name": "stdout"
        }
      ]
    },
    {
      "cell_type": "markdown",
      "metadata": {
        "id": "fl9inu_wD8QJ",
        "colab_type": "text"
      },
      "source": [
        "데이터 합치기"
      ]
    },
    {
      "cell_type": "code",
      "metadata": {
        "id": "sALljWm3-Thz",
        "colab_type": "code",
        "outputId": "857b0699-ba7e-464c-978a-bdcff94045c5",
        "colab": {
          "base_uri": "https://localhost:8080/",
          "height": 53
        }
      },
      "source": [
        "\n",
        "\n",
        "x_np = np.concatenate((x_np0011, x_np0012, x_np0013, x_np0021, x_np0022, x_np0023, x_np0031, x_np0032, x_np0033, x_np1111, x_np1112, x_np1113, x_np1121,\n",
        "                       x_np1122, x_np1123, x_np1131, x_np1132, x_np1133, x_np9711, x_np9712, x_np9713, x_np9721, x_np9722, x_np9723, x_np9731, x_np9732, x_np9733,\n",
        "                       x_np14011, x_np14012, x_np14013, x_np14021, x_np14022, x_np14023, x_np14031, x_np14032, x_np14033), axis=0) # 데이터샘플 합치기\n",
        "\n",
        "y_np = np.concatenate((y_np0011, y_np0012, y_np0013, y_np0021, y_np0022, y_np0023, y_np0031, y_np0032, y_np0033, y_np1111, y_np1112, y_np1113, y_np1121,\n",
        "                       y_np1122, y_np1123, y_np1131, y_np1132, y_np1133, y_np9711, y_np9712, y_np9713, y_np9721, y_np9722, y_np9723, y_np9731, y_np9732, y_np9733,\n",
        "                       y_np14011, y_np14012, y_np14013, y_np14021, y_np14022, y_np14023, y_np14031, y_np14032, y_np14033), axis=0) # 타겟레이블 합치기\n",
        "print(x_np.shape, y_np.shape)\n",
        "\n",
        "data_length = x_np.shape[0] #data_length = 15039\n",
        "data_id     = np.arange(0, data_length) #15039가지의 인덱스가 저장된 배열 \n",
        "\n",
        "print(data_id.shape)\n",
        "\n",
        "np.random.shuffle(data_id)  # 데이터인덱스 셔플링\n",
        "\n",
        "# parameters\n",
        "learning_rate = 0.001\n",
        "epoch = 50"
      ],
      "execution_count": 2,
      "outputs": [
        {
          "output_type": "stream",
          "text": [
            "(15039, 56) (15039,)\n",
            "(15039,)\n"
          ],
          "name": "stdout"
        }
      ]
    },
    {
      "cell_type": "markdown",
      "metadata": {
        "id": "gEeUplHREYur",
        "colab_type": "text"
      },
      "source": [
        "데이터 분류"
      ]
    },
    {
      "cell_type": "code",
      "metadata": {
        "id": "MqhMaOpsL9Oq",
        "colab_type": "code",
        "outputId": "e4b790bc-b2a6-485a-d924-ac155287f9ed",
        "colab": {
          "base_uri": "https://localhost:8080/",
          "height": 53
        }
      },
      "source": [
        "train_size = 0.5\n",
        "train_id   = data_id[0:int(train_size*data_length)]  # 앞부분에 해당하는 인덱스셋 가져오기(학습) (50%)\n",
        "test_id    = data_id[int(train_size*data_length)::]   # 뒷부분에 해당하는 인덱스셋 가져오기(테스트) (50%)\n",
        "print(train_id.shape)\n",
        "\n",
        "x_train     = x_np[train_id] # 학습 인덱스셋에 해당하는 데이터셋 가져오기\n",
        "y_train     = y_np[train_id] # 학습 인덱스셋에 해당하는 레이블셋 가져오기\n",
        "x_test      = x_np[test_id]  # 테스트 인덱스셋에 해당하는 데이터셋 가져오기\n",
        "y_test      = y_np[test_id]  # 테스트 인덱스셋에 해당하는 레이블셋 가져오기\n",
        "\n",
        "print(x_train.shape,y_train.shape)\n",
        "\n",
        "train = torch.utils.data.TensorDataset(torch.Tensor(x_train), torch.Tensor(y_train).type(torch.LongTensor))\n",
        "\n",
        "train_loader = torch.utils.data.DataLoader(train, batch_size = 500, shuffle = True,\n",
        "                                          drop_last=True)\n",
        "\n",
        "test = torch.utils.data.TensorDataset(torch.Tensor(x_test), torch.Tensor(y_test).type(torch.LongTensor))\n",
        "\n",
        "test_loader = torch.utils.data.DataLoader(test, batch_size = 500, shuffle = True,\n",
        "                                          drop_last=True)"
      ],
      "execution_count": 3,
      "outputs": [
        {
          "output_type": "stream",
          "text": [
            "(7519,)\n",
            "(7519, 56) (7519,)\n"
          ],
          "name": "stdout"
        }
      ]
    },
    {
      "cell_type": "markdown",
      "metadata": {
        "id": "joUYi8EhEjg5",
        "colab_type": "text"
      },
      "source": [
        "신경망 생성"
      ]
    },
    {
      "cell_type": "code",
      "metadata": {
        "id": "SPdN08tQEmI8",
        "colab_type": "code",
        "colab": {}
      },
      "source": [
        "# CNN Model #1 (2 conv layers)\n",
        "class CNN(torch.nn.Module):\n",
        "\n",
        "    def __init__(self):\n",
        "        super(CNN, self).__init__()\n",
        "        \n",
        "\n",
        "        self.layer1 = torch.nn.Sequential(\n",
        "            torch.nn.Conv2d(1, 32, kernel_size=3, stride=1, padding=1), #conv2d(input 채널 개수, output 채널 개수, 커널사이즈, 스트라이드크기, 패딩크기)\n",
        "            torch.nn.ReLU(),\n",
        "            torch.nn.MaxPool2d(kernel_size=2, stride=2)) #출력이미지가 절반으로 쪼개짐\n",
        "\n",
        "        self.layer2 = torch.nn.Sequential(\n",
        "            torch.nn.Conv2d(32, 64, kernel_size=3, stride=1, padding=1),\n",
        "            torch.nn.ReLU(),\n",
        "            torch.nn.MaxPool2d(kernel_size=2, stride=2))\n",
        "        \n",
        "        self.layer3 = torch.nn.Sequential(\n",
        "            torch.nn.Conv2d(64, 92, kernel_size=3, stride=1, padding=1),\n",
        "            torch.nn.ReLU(),\n",
        "            torch.nn.MaxPool2d(kernel_size=1, stride=1))\n",
        " \n",
        "        \n",
        "  \n",
        "        self.fc1 = torch.nn.Linear(2 * 1 * 92, 300, bias=True)\n",
        "        torch.nn.init.xavier_uniform_(self.fc1.weight)\n",
        "\n",
        "        self.layer4 = torch.nn.Sequential(\n",
        "            self.fc1, \n",
        "            torch.nn.ReLU(),\n",
        "            torch.nn.Dropout(p=0.2))\n",
        "        \n",
        "   \n",
        "        self.fc2 = torch.nn.Linear(300, 4, bias=True)\n",
        "        torch.nn.init.xavier_uniform_(self.fc2.weight)\n",
        "\n",
        "    def forward(self, x):\n",
        "        out = self.layer1(x)\n",
        "        out = self.layer2(out)\n",
        "        out = self.layer3(out)\n",
        "        out = out.view(out.size(0), -1)  \n",
        "        out = self.layer4(out)\n",
        "        out = self.fc2(out)\n",
        "        return out\n",
        "\n",
        "# CNN 모델 생성\n",
        "model = CNN().to(device)  \n",
        "\n",
        "# 손실함수, 옵티마이저\n",
        "criterion = torch.nn.CrossEntropyLoss().to(device)    # Softmax is internally computed.\n",
        "optimizer = torch.optim.Adam(model.parameters(), lr=learning_rate)"
      ],
      "execution_count": 0,
      "outputs": []
    },
    {
      "cell_type": "markdown",
      "metadata": {
        "id": "BZUNTPwWF8YS",
        "colab_type": "text"
      },
      "source": [
        "학습"
      ]
    },
    {
      "cell_type": "code",
      "metadata": {
        "id": "L0eoGgxqF9XB",
        "colab_type": "code",
        "outputId": "648f50b9-40c1-4ce4-b622-735fe96d723d",
        "colab": {
          "base_uri": "https://localhost:8080/",
          "height": 899
        }
      },
      "source": [
        "# 모델 학습\n",
        "\n",
        "\n",
        "model.train()    \n",
        "for epoch in range(epoch):\n",
        "    avg_cost = 0\n",
        "    total_batch = len(train_loader)\n",
        "\n",
        "    for X, T in train_loader:\n",
        "        X = X.view(500,1,8,7).to(device)\n",
        "        T = T.to(device)\n",
        "\n",
        "        optimizer.zero_grad()\n",
        "        output = model(X)\n",
        "        cost = criterion(output, T)\n",
        "        cost.backward()\n",
        "        optimizer.step()\n",
        "\n",
        "        avg_cost += cost / total_batch\n",
        "\n",
        "    print('[Epoch: {:>4}] cost = {:.3}'.format(epoch + 1, avg_cost))\n",
        "\n",
        "print('Learning Finished!')"
      ],
      "execution_count": 11,
      "outputs": [
        {
          "output_type": "stream",
          "text": [
            "[Epoch:    1] cost = 1.35\n",
            "[Epoch:    2] cost = 1.19\n",
            "[Epoch:    3] cost = 0.982\n",
            "[Epoch:    4] cost = 0.807\n",
            "[Epoch:    5] cost = 0.663\n",
            "[Epoch:    6] cost = 0.582\n",
            "[Epoch:    7] cost = 0.507\n",
            "[Epoch:    8] cost = 0.478\n",
            "[Epoch:    9] cost = 0.438\n",
            "[Epoch:   10] cost = 0.405\n",
            "[Epoch:   11] cost = 0.373\n",
            "[Epoch:   12] cost = 0.352\n",
            "[Epoch:   13] cost = 0.354\n",
            "[Epoch:   14] cost = 0.334\n",
            "[Epoch:   15] cost = 0.343\n",
            "[Epoch:   16] cost = 0.328\n",
            "[Epoch:   17] cost = 0.299\n",
            "[Epoch:   18] cost = 0.281\n",
            "[Epoch:   19] cost = 0.278\n",
            "[Epoch:   20] cost = 0.27\n",
            "[Epoch:   21] cost = 0.262\n",
            "[Epoch:   22] cost = 0.236\n",
            "[Epoch:   23] cost = 0.237\n",
            "[Epoch:   24] cost = 0.239\n",
            "[Epoch:   25] cost = 0.226\n",
            "[Epoch:   26] cost = 0.224\n",
            "[Epoch:   27] cost = 0.218\n",
            "[Epoch:   28] cost = 0.207\n",
            "[Epoch:   29] cost = 0.226\n",
            "[Epoch:   30] cost = 0.219\n",
            "[Epoch:   31] cost = 0.199\n",
            "[Epoch:   32] cost = 0.193\n",
            "[Epoch:   33] cost = 0.203\n",
            "[Epoch:   34] cost = 0.188\n",
            "[Epoch:   35] cost = 0.179\n",
            "[Epoch:   36] cost = 0.175\n",
            "[Epoch:   37] cost = 0.172\n",
            "[Epoch:   38] cost = 0.191\n",
            "[Epoch:   39] cost = 0.185\n",
            "[Epoch:   40] cost = 0.171\n",
            "[Epoch:   41] cost = 0.167\n",
            "[Epoch:   42] cost = 0.2\n",
            "[Epoch:   43] cost = 0.179\n",
            "[Epoch:   44] cost = 0.184\n",
            "[Epoch:   45] cost = 0.16\n",
            "[Epoch:   46] cost = 0.15\n",
            "[Epoch:   47] cost = 0.166\n",
            "[Epoch:   48] cost = 0.177\n",
            "Learning Finished!\n"
          ],
          "name": "stdout"
        }
      ]
    },
    {
      "cell_type": "markdown",
      "metadata": {
        "id": "lBZ_g26AAH7d",
        "colab_type": "text"
      },
      "source": [
        "테스트"
      ]
    },
    {
      "cell_type": "code",
      "metadata": {
        "id": "16BqncBrAJZ5",
        "colab_type": "code",
        "outputId": "659f52fe-d133-41e7-b3d8-9a1c979f987e",
        "colab": {
          "base_uri": "https://localhost:8080/",
          "height": 35
        }
      },
      "source": [
        "# 모델 테스트\n",
        "import random\n",
        "\n",
        "with torch.no_grad():\n",
        "    model.eval()    \n",
        "    \n",
        "    X_test = torch.Tensor(x_test).to(device)\n",
        "    X_test = X_test.view(7520,1,8,7).to(device)\n",
        "    T_test = torch.Tensor(y_test).to(device)\n",
        "\n",
        "    prediction = model(X_test)\n",
        "    correct_prediction = torch.argmax(prediction, 1) == T_test\n",
        "    accuracy = correct_prediction.float().mean()\n",
        "    print('Accuracy:','{:.3f}'.format(accuracy.item()))"
      ],
      "execution_count": 12,
      "outputs": [
        {
          "output_type": "stream",
          "text": [
            "Accuracy: 0.913\n"
          ],
          "name": "stdout"
        }
      ]
    }
  ]
}