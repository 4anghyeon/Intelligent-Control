{
  "nbformat": 4,
  "nbformat_minor": 0,
  "metadata": {
    "colab": {
      "name": "지능제어텀프_MLP.ipynb",
      "provenance": [],
      "collapsed_sections": []
    },
    "kernelspec": {
      "name": "python3",
      "display_name": "Python 3"
    }
  },
  "cells": [
    {
      "cell_type": "markdown",
      "metadata": {
        "id": "28FXeSUv-Z51",
        "colab_type": "text"
      },
      "source": [
        "데이터 가져오기"
      ]
    },
    {
      "cell_type": "code",
      "metadata": {
        "id": "RrQk4EH1-MiA",
        "colab_type": "code",
        "outputId": "3da8e9e7-b492-46ed-e6f6-223cab97fe2b",
        "colab": {
          "base_uri": "https://localhost:8080/",
          "height": 127
        }
      },
      "source": [
        "from google.colab import drive\n",
        "drive.mount('/gdrive')\n",
        "import pandas as pd\n",
        "import numpy as np\n",
        "import torch\n",
        "\n",
        "device = 'cuda' if torch.cuda.is_available() else 'cpu'\n",
        "\n",
        "df0011 = pd.read_csv('/gdrive/My Drive/Intelligent Control/TERM PROJECT/P0-W0/Amp11.csv', header=None)\n",
        "x_np0011 = np.transpose(np.array(df0011)) # 데이터샘플 데이터를 numpy array로 변환\n",
        "y_np0011 = np.zeros(len(x_np0011))        # 타겟레이블 len() >  행의 개수 가져옴\n",
        "\n",
        "df0012 = pd.read_csv('/gdrive/My Drive/Intelligent Control/TERM PROJECT/P0-W0/Amp12.csv', header=None)\n",
        "x_np0012 = np.transpose(np.array(df0012)) # 데이터샘플\n",
        "y_np0012 = np.zeros(len(x_np0012))         # 타겟레이블\n",
        "\n",
        "df0013 = pd.read_csv('/gdrive/My Drive/Intelligent Control/TERM PROJECT/P0-W0/Amp13.csv', header=None)\n",
        "x_np0013 = np.transpose(np.array(df0013)) # 데이터샘플\n",
        "y_np0013 = np.zeros(len(x_np0013))         # 타겟레이블\n",
        "\n",
        "df0021 = pd.read_csv('/gdrive/My Drive/Intelligent Control/TERM PROJECT/P0-W0/Amp21.csv', header=None)\n",
        "x_np0021 = np.transpose(np.array(df0021)) # 데이터샘플\n",
        "y_np0021 = np.zeros(len(x_np0021))         # 타겟레이블\n",
        "\n",
        "df0022 = pd.read_csv('/gdrive/My Drive/Intelligent Control/TERM PROJECT/P0-W0/Amp22.csv', header=None)\n",
        "x_np0022 = np.transpose(np.array(df0022)) # 데이터샘플\n",
        "y_np0022 = np.zeros(len(x_np0022))         # 타겟레이블\n",
        "\n",
        "df0023 = pd.read_csv('/gdrive/My Drive/Intelligent Control/TERM PROJECT/P0-W0/Amp23.csv', header=None)\n",
        "x_np0023 = np.transpose(np.array(df0023)) # 데이터샘플\n",
        "y_np0023 = np.zeros(len(x_np0023))         # 타겟레이블\n",
        "\n",
        "df0031 = pd.read_csv('/gdrive/My Drive/Intelligent Control/TERM PROJECT/P0-W0/Amp31.csv', header=None)\n",
        "x_np0031 = np.transpose(np.array(df0031)) # 데이터샘플\n",
        "y_np0031 = np.zeros(len(x_np0031))         # 타겟레이블\n",
        "\n",
        "df0032 = pd.read_csv('/gdrive/My Drive/Intelligent Control/TERM PROJECT/P0-W0/Amp32.csv', header=None)\n",
        "x_np0032 = np.transpose(np.array(df0032)) # 데이터샘플\n",
        "y_np0032 = np.zeros(len(x_np0032))         # 타겟레이블\n",
        "\n",
        "df0033 = pd.read_csv('/gdrive/My Drive/Intelligent Control/TERM PROJECT/P0-W0/Amp33.csv', header=None)\n",
        "x_np0033 = np.transpose(np.array(df0033)) # 데이터샘플\n",
        "y_np0033 = np.zeros(len(x_np0033))         # 타겟레이블\n",
        "\n",
        "################################################################################\n",
        "\n",
        "df1111 = pd.read_csv('/gdrive/My Drive/Intelligent Control/TERM PROJECT/P1-W1/Amp11.csv', header=None)\n",
        "x_np1111 = np.transpose(np.array(df1111)) # 데이터샘플\n",
        "y_np1111 = np.ones(len(x_np1111))         # 타겟레이블\n",
        "\n",
        "df1112 = pd.read_csv('/gdrive/My Drive/Intelligent Control/TERM PROJECT/P1-W1/Amp12.csv', header=None)\n",
        "x_np1112 = np.transpose(np.array(df1112)) # 데이터샘플\n",
        "y_np1112 = np.ones(len(x_np1112))         # 타겟레이블\n",
        "\n",
        "df1113 = pd.read_csv('/gdrive/My Drive/Intelligent Control/TERM PROJECT/P1-W1/Amp13.csv', header=None)\n",
        "x_np1113 = np.transpose(np.array(df1113)) # 데이터샘플\n",
        "y_np1113 = np.ones(len(x_np1113))         # 타겟레이블\n",
        "\n",
        "df1121 = pd.read_csv('/gdrive/My Drive/Intelligent Control/TERM PROJECT/P1-W1/Amp21.csv', header=None)\n",
        "x_np1121 = np.transpose(np.array(df1121)) # 데이터샘플\n",
        "y_np1121 = np.ones(len(x_np1121))         # 타겟레이블\n",
        "\n",
        "df1122 = pd.read_csv('/gdrive/My Drive/Intelligent Control/TERM PROJECT/P1-W1/Amp22.csv', header=None)\n",
        "x_np1122 = np.transpose(np.array(df1122)) # 데이터샘플\n",
        "y_np1122 = np.ones(len(x_np1122))         # 타겟레이블\n",
        "\n",
        "df1123 = pd.read_csv('/gdrive/My Drive/Intelligent Control/TERM PROJECT/P1-W1/Amp23.csv', header=None)\n",
        "x_np1123 = np.transpose(np.array(df1123)) # 데이터샘플\n",
        "y_np1123 = np.ones(len(x_np1123))         # 타겟레이블\n",
        "\n",
        "df1131 = pd.read_csv('/gdrive/My Drive/Intelligent Control/TERM PROJECT/P1-W1/Amp31.csv', header=None)\n",
        "x_np1131 = np.transpose(np.array(df1131)) # 데이터샘플\n",
        "y_np1131 = np.ones(len(x_np1131))         # 타겟레이블\n",
        "\n",
        "df1132 = pd.read_csv('/gdrive/My Drive/Intelligent Control/TERM PROJECT/P1-W1/Amp32.csv', header=None)\n",
        "x_np1132 = np.transpose(np.array(df1132)) # 데이터샘플\n",
        "y_np1132 = np.ones(len(x_np1132))         # 타겟레이블\n",
        "\n",
        "df1133 = pd.read_csv('/gdrive/My Drive/Intelligent Control/TERM PROJECT/P1-W1/Amp33.csv', header=None)\n",
        "x_np1133 = np.transpose(np.array(df1133)) # 데이터샘플\n",
        "y_np1133 = np.ones(len(x_np1133))         # 타겟레이블\n",
        "\n",
        "##########################################################################\n",
        "\n",
        "df9711 = pd.read_csv('/gdrive/My Drive/Intelligent Control/TERM PROJECT/P9-W7/Amp11.csv', header=None)\n",
        "x_np9711 = np.transpose(np.array(df9711)) # 데이터샘플\n",
        "y_np9711 = 2*(np.ones(len(x_np9711)))      # 타겟레이블\n",
        "\n",
        "df9712 = pd.read_csv('/gdrive/My Drive/Intelligent Control/TERM PROJECT/P9-W7/Amp12.csv', header=None)\n",
        "x_np9712 = np.transpose(np.array(df9712)) # 데이터샘플\n",
        "y_np9712 = 2*(np.ones(len(x_np9712)))       # 타겟레이블\n",
        "\n",
        "df9713 = pd.read_csv('/gdrive/My Drive/Intelligent Control/TERM PROJECT/P9-W7/Amp13.csv', header=None)\n",
        "x_np9713 = np.transpose(np.array(df9713)) # 데이터샘플\n",
        "y_np9713 = 2*(np.ones(len(x_np9713)))        # 타겟레이블\n",
        "\n",
        "df9721 = pd.read_csv('/gdrive/My Drive/Intelligent Control/TERM PROJECT/P9-W7/Amp21.csv', header=None)\n",
        "x_np9721 = np.transpose(np.array(df9721)) # 데이터샘플\n",
        "y_np9721 = 2*(np.ones(len(x_np9721)))         # 타겟레이블\n",
        "\n",
        "df9722 = pd.read_csv('/gdrive/My Drive/Intelligent Control/TERM PROJECT/P9-W7/Amp22.csv', header=None)\n",
        "x_np9722 = np.transpose(np.array(df9722)) # 데이터샘플\n",
        "y_np9722 = 2*(np.ones(len(x_np9722)))         # 타겟레이블\n",
        "\n",
        "df9723 = pd.read_csv('/gdrive/My Drive/Intelligent Control/TERM PROJECT/P9-W7/Amp23.csv', header=None)\n",
        "x_np9723 = np.transpose(np.array(df9723)) # 데이터샘플\n",
        "y_np9723 = 2*(np.ones(len(x_np9723)))         # 타겟레이블\n",
        "\n",
        "df9731 = pd.read_csv('/gdrive/My Drive/Intelligent Control/TERM PROJECT/P9-W7/Amp31.csv', header=None)\n",
        "x_np9731 = np.transpose(np.array(df9731)) # 데이터샘플\n",
        "y_np9731 = 2*(np.ones(len(x_np9731)))         # 타겟레이블\n",
        "\n",
        "df9732 = pd.read_csv('/gdrive/My Drive/Intelligent Control/TERM PROJECT/P9-W7/Amp32.csv', header=None)\n",
        "x_np9732 = np.transpose(np.array(df9732)) # 데이터샘플\n",
        "y_np9732 = 2*(np.ones(len(x_np9732)))         # 타겟레이블\n",
        "\n",
        "df9733 = pd.read_csv('/gdrive/My Drive/Intelligent Control/TERM PROJECT/P9-W7/Amp33.csv', header=None)\n",
        "x_np9733 = np.transpose(np.array(df9733)) # 데이터샘플\n",
        "y_np9733 = 2*(np.ones(len(x_np9733)))         # 타겟레이블\n",
        "\n",
        "#############################################################\n",
        "\n",
        "df14011 = pd.read_csv('/gdrive/My Drive/Intelligent Control/TERM PROJECT/P14-W0/Amp11.csv', header=None)\n",
        "x_np14011 = np.transpose(np.array(df14011)) # 데이터샘플\n",
        "y_np14011 = 3*(np.ones(len(x_np14011)))         # 타겟레이블\n",
        "\n",
        "df14012 = pd.read_csv('/gdrive/My Drive/Intelligent Control/TERM PROJECT/P14-W0/Amp12.csv', header=None)\n",
        "x_np14012 = np.transpose(np.array(df14012)) # 데이터샘플\n",
        "y_np14012 = 3*(np.ones(len(x_np14012)))         # 타겟레이블\n",
        "\n",
        "df14013 = pd.read_csv('/gdrive/My Drive/Intelligent Control/TERM PROJECT/P14-W0/Amp13.csv', header=None)\n",
        "x_np14013 = np.transpose(np.array(df14013)) # 데이터샘플\n",
        "y_np14013 = 3*(np.ones(len(x_np14013)))         # 타겟레이블\n",
        "\n",
        "df14021 = pd.read_csv('/gdrive/My Drive/Intelligent Control/TERM PROJECT/P14-W0/Amp21.csv', header=None)\n",
        "x_np14021 = np.transpose(np.array(df14021)) # 데이터샘플\n",
        "y_np14021 = 3*(np.ones(len(x_np14021)))         # 타겟레이블\n",
        "\n",
        "df14022 = pd.read_csv('/gdrive/My Drive/Intelligent Control/TERM PROJECT/P14-W0/Amp22.csv', header=None)\n",
        "x_np14022 = np.transpose(np.array(df14022)) # 데이터샘플\n",
        "y_np14022 = 3*(np.ones(len(x_np14022)))         # 타겟레이블\n",
        "\n",
        "df14023 = pd.read_csv('/gdrive/My Drive/Intelligent Control/TERM PROJECT/P14-W0/Amp23.csv', header=None)\n",
        "x_np14023 = np.transpose(np.array(df14023)) # 데이터샘플\n",
        "y_np14023 = 3*(np.ones(len(x_np14023)))         # 타겟레이블\n",
        "\n",
        "df14031 = pd.read_csv('/gdrive/My Drive/Intelligent Control/TERM PROJECT/P14-W0/Amp31.csv', header=None)\n",
        "x_np14031 = np.transpose(np.array(df14031)) # 데이터샘플\n",
        "y_np14031 = 3*(np.ones(len(x_np14031)))         # 타겟레이블\n",
        "\n",
        "df14032 = pd.read_csv('/gdrive/My Drive/Intelligent Control/TERM PROJECT/P14-W0/Amp32.csv', header=None)\n",
        "x_np14032 = np.transpose(np.array(df14032)) # 데이터샘플\n",
        "y_np14032 = 3*(np.ones(len(x_np14032)))         # 타겟레이블\n",
        "\n",
        "df14033 = pd.read_csv('/gdrive/My Drive/Intelligent Control/TERM PROJECT/P14-W0/Amp33.csv', header=None)\n",
        "x_np14033 = np.transpose(np.array(df14033)) # 데이터샘플\n",
        "y_np14033 = 3*(np.ones(len(x_np14033)))         # 타겟레이블"
      ],
      "execution_count": 0,
      "outputs": [
        {
          "output_type": "stream",
          "text": [
            "Go to this URL in a browser: https://accounts.google.com/o/oauth2/auth?client_id=947318989803-6bn6qk8qdgf4n4g3pfee6491hc0brc4i.apps.googleusercontent.com&redirect_uri=urn%3aietf%3awg%3aoauth%3a2.0%3aoob&response_type=code&scope=email%20https%3a%2f%2fwww.googleapis.com%2fauth%2fdocs.test%20https%3a%2f%2fwww.googleapis.com%2fauth%2fdrive%20https%3a%2f%2fwww.googleapis.com%2fauth%2fdrive.photos.readonly%20https%3a%2f%2fwww.googleapis.com%2fauth%2fpeopleapi.readonly\n",
            "\n",
            "Enter your authorization code:\n",
            "··········\n",
            "Mounted at /gdrive\n"
          ],
          "name": "stdout"
        }
      ]
    },
    {
      "cell_type": "markdown",
      "metadata": {
        "id": "J8L5qs92F0xR",
        "colab_type": "text"
      },
      "source": [
        "데이터 합치기"
      ]
    },
    {
      "cell_type": "code",
      "metadata": {
        "id": "sALljWm3-Thz",
        "colab_type": "code",
        "outputId": "bb720dc2-bfb2-452e-b9df-173324b706bb",
        "colab": {
          "base_uri": "https://localhost:8080/",
          "height": 71
        }
      },
      "source": [
        "print(y_np0011.shape, y_np14012.shape)\n",
        "\n",
        "x_np = np.concatenate((x_np0011, x_np0012, x_np0013, x_np0021, x_np0022, x_np0023, x_np0031, x_np0032, x_np0033, x_np1111, x_np1112, x_np1113, x_np1121,\n",
        "                       x_np1122, x_np1123, x_np1131, x_np1132, x_np1133, x_np9711, x_np9712, x_np9713, x_np9721, x_np9722, x_np9723, x_np9731, x_np9732, x_np9733,\n",
        "                       x_np14011, x_np14012, x_np14013, x_np14021, x_np14022, x_np14023, x_np14031, x_np14032, x_np14033), axis=0) # 데이터샘플 합치기\n",
        "\n",
        "y_np = np.concatenate((y_np0011, y_np0012, y_np0013, y_np0021, y_np0022, y_np0023, y_np0031, y_np0032, y_np0033, y_np1111, y_np1112, y_np1113, y_np1121,\n",
        "                       y_np1122, y_np1123, y_np1131, y_np1132, y_np1133, y_np9711, y_np9712, y_np9713, y_np9721, y_np9722, y_np9723, y_np9731, y_np9732, y_np9733,\n",
        "                       y_np14011, y_np14012, y_np14013, y_np14021, y_np14022, y_np14023, y_np14031, y_np14032, y_np14033), axis=0) # 타겟레이블 합치기\n",
        "print(x_np.shape, y_np.shape)\n",
        "\n",
        "data_length = x_np.shape[0] #data_length = 15039\n",
        "data_id     = np.arange(0, data_length) #15039가지의 인덱스가 저장된 배열 \n",
        "\n",
        "print(data_id.shape)\n",
        "\n",
        "np.random.shuffle(data_id)  # 데이터인덱스 셔플링"
      ],
      "execution_count": 0,
      "outputs": [
        {
          "output_type": "stream",
          "text": [
            "(373,) (461,)\n",
            "(15039, 56) (15039,)\n",
            "(15039,)\n"
          ],
          "name": "stdout"
        }
      ]
    },
    {
      "cell_type": "markdown",
      "metadata": {
        "id": "y8wDHVbiL73U",
        "colab_type": "text"
      },
      "source": [
        "데이터 분류"
      ]
    },
    {
      "cell_type": "code",
      "metadata": {
        "id": "MqhMaOpsL9Oq",
        "colab_type": "code",
        "outputId": "db7b1aea-094f-42f4-e3a4-fdde59e6ca8b",
        "colab": {
          "base_uri": "https://localhost:8080/",
          "height": 53
        }
      },
      "source": [
        "train_size = 0.5\n",
        "train_id   = data_id[0:int(train_size*data_length)]  # 앞부분에 해당하는 인덱스셋 가져오기(학습) (50%)\n",
        "test_id    = data_id[int(train_size*data_length)::]   # 뒷부분에 해당하는 인덱스셋 가져오기(테스트) (50%)\n",
        "print(train_id.shape)\n",
        "\n",
        "x_train     = x_np[train_id] # 학습 인덱스셋에 해당하는 데이터셋 가져오기\n",
        "y_train     = y_np[train_id] # 학습 인덱스셋에 해당하는 레이블셋 가져오기\n",
        "x_test      = x_np[test_id]  # 테스트 인덱스셋에 해당하는 데이터셋 가져오기\n",
        "y_test      = y_np[test_id]  # 테스트 인덱스셋에 해당하는 레이블셋 가져오기\n",
        "\n",
        "print(x_train.shape,y_train.shape)\n",
        "\n",
        "train = torch.utils.data.TensorDataset(torch.Tensor(x_train), torch.Tensor(y_train).type(torch.LongTensor))\n",
        "train_loader = torch.utils.data.DataLoader(train, batch_size = 60, shuffle = True,\n",
        "                                          drop_last=True)\n",
        "\n",
        "test = torch.utils.data.TensorDataset(torch.Tensor(x_test), torch.Tensor(y_test).type(torch.LongTensor))\n",
        "test_loader = torch.utils.data.DataLoader(train, batch_size = 60, shuffle = True,\n",
        "                                          drop_last=True)"
      ],
      "execution_count": 0,
      "outputs": [
        {
          "output_type": "stream",
          "text": [
            "(7519,)\n",
            "(7519, 56) (7519,)\n"
          ],
          "name": "stdout"
        }
      ]
    },
    {
      "cell_type": "markdown",
      "metadata": {
        "id": "_EiX44apNB-F",
        "colab_type": "text"
      },
      "source": [
        "신경망 생성"
      ]
    },
    {
      "cell_type": "code",
      "metadata": {
        "id": "Du8kBfNbNDyo",
        "colab_type": "code",
        "colab": {}
      },
      "source": [
        "# 3층 신경망\n",
        "linear1 = torch.nn.Linear(56, 50, bias=True) \n",
        "linear2 = torch.nn.Linear(50, 100, bias=True)\n",
        "linear3 = torch.nn.Linear(100, 75, bias=True)\n",
        "linear4 = torch.nn.Linear(75, 30, bias=True)\n",
        "linear5 = torch.nn.Linear(30, 4, bias=True)\n",
        "\n",
        "\n",
        "\n",
        "# 활성화함수 모듈을 생성\n",
        "\n",
        "sigmoid = torch.nn.Sigmoid()\n",
        "relu = torch.nn.ReLU()\n",
        "leakyrelu = torch.nn.LeakyReLU()\n",
        "\n",
        "model = torch.nn.Sequential(linear1, leakyrelu, linear2, relu, linear3, relu, linear4, leakyrelu, linear5).to(device) \n",
        "\n",
        "\n",
        "optimizer = torch.optim.Adagrad(model.parameters(), lr=0.1)\n",
        "criterion = torch.nn.CrossEntropyLoss().to(device)  \n",
        "epoch = 50\n"
      ],
      "execution_count": 0,
      "outputs": []
    },
    {
      "cell_type": "markdown",
      "metadata": {
        "id": "at3Lc6s3NRUg",
        "colab_type": "text"
      },
      "source": [
        "학습"
      ]
    },
    {
      "cell_type": "code",
      "metadata": {
        "id": "N1NjhIi6NSlF",
        "colab_type": "code",
        "outputId": "2b9542ea-c914-4d8c-f707-ea06f33c4231",
        "colab": {
          "base_uri": "https://localhost:8080/",
          "height": 935
        }
      },
      "source": [
        "for epoch in range(epoch):\n",
        "\n",
        "        avg_cost = 0\n",
        "        total_batch = len(train_loader)\n",
        "    \n",
        "        for X, T in train_loader:\n",
        "  \n",
        "            X = X.to(device) \n",
        "            T = T.to(device)\n",
        "\n",
        "            optimizer.zero_grad()   \n",
        "            output = model(X)    \n",
        "            cost = criterion(output, T)   \n",
        "            cost.backward()         \n",
        "            optimizer.step()       \n",
        "\n",
        "            avg_cost += cost / total_batch   \n",
        "\n",
        "        print('Epoch:', '%04d' % (epoch + 1), 'cost =', '{:.3f}'.format(avg_cost))\n",
        "    \n",
        "print('Learning finished')"
      ],
      "execution_count": 0,
      "outputs": [
        {
          "output_type": "stream",
          "text": [
            "Epoch: 0001 cost = 1.229\n",
            "Epoch: 0002 cost = 0.699\n",
            "Epoch: 0003 cost = 0.513\n",
            "Epoch: 0004 cost = 0.426\n",
            "Epoch: 0005 cost = 0.355\n",
            "Epoch: 0006 cost = 0.320\n",
            "Epoch: 0007 cost = 0.276\n",
            "Epoch: 0008 cost = 0.273\n",
            "Epoch: 0009 cost = 0.231\n",
            "Epoch: 0010 cost = 0.218\n",
            "Epoch: 0011 cost = 0.212\n",
            "Epoch: 0012 cost = 0.191\n",
            "Epoch: 0013 cost = 0.184\n",
            "Epoch: 0014 cost = 0.164\n",
            "Epoch: 0015 cost = 0.161\n",
            "Epoch: 0016 cost = 0.157\n",
            "Epoch: 0017 cost = 0.152\n",
            "Epoch: 0018 cost = 0.145\n",
            "Epoch: 0019 cost = 0.127\n",
            "Epoch: 0020 cost = 0.127\n",
            "Epoch: 0021 cost = 0.126\n",
            "Epoch: 0022 cost = 0.129\n",
            "Epoch: 0023 cost = 0.110\n",
            "Epoch: 0024 cost = 0.108\n",
            "Epoch: 0025 cost = 0.107\n",
            "Epoch: 0026 cost = 0.115\n",
            "Epoch: 0027 cost = 0.102\n",
            "Epoch: 0028 cost = 0.098\n",
            "Epoch: 0029 cost = 0.098\n",
            "Epoch: 0030 cost = 0.093\n",
            "Epoch: 0031 cost = 0.087\n",
            "Epoch: 0032 cost = 0.093\n",
            "Epoch: 0033 cost = 0.090\n",
            "Epoch: 0034 cost = 0.087\n",
            "Epoch: 0035 cost = 0.080\n",
            "Epoch: 0036 cost = 0.079\n",
            "Epoch: 0037 cost = 0.084\n",
            "Epoch: 0038 cost = 0.072\n",
            "Epoch: 0039 cost = 0.077\n",
            "Epoch: 0040 cost = 0.074\n",
            "Epoch: 0041 cost = 0.072\n",
            "Epoch: 0042 cost = 0.071\n",
            "Epoch: 0043 cost = 0.079\n",
            "Epoch: 0044 cost = 0.070\n",
            "Epoch: 0045 cost = 0.068\n",
            "Epoch: 0046 cost = 0.067\n",
            "Epoch: 0047 cost = 0.061\n",
            "Epoch: 0048 cost = 0.064\n",
            "Epoch: 0049 cost = 0.068\n",
            "Epoch: 0050 cost = 0.070\n",
            "Learning finished\n"
          ],
          "name": "stdout"
        }
      ]
    },
    {
      "cell_type": "markdown",
      "metadata": {
        "id": "4c5Zqi8UWhGg",
        "colab_type": "text"
      },
      "source": [
        "테스트"
      ]
    },
    {
      "cell_type": "code",
      "metadata": {
        "id": "3JVSEEMbWjA1",
        "colab_type": "code",
        "outputId": "babfe187-945e-45f1-87df-725e996bbca7",
        "colab": {
          "base_uri": "https://localhost:8080/",
          "height": 71
        }
      },
      "source": [
        "import random\n",
        "\n",
        "with torch.no_grad():\n",
        "\n",
        "        X_test = torch.Tensor(x_test).to(device)\n",
        "        T_test = torch.Tensor(y_test).to(device)\n",
        "\n",
        "        output = model(X_test) \n",
        "\n",
        "        correct_prediction = torch.argmax(output, 1) == T_test \n",
        "\n",
        "        accuracy = correct_prediction.float().mean()\n",
        "        print('Accuracy:','{:.3f}'.format(accuracy.item()))\n",
        "\n",
        "        r = random.randint(0, len(T_test) - 1)\n",
        "        X_single_data = X_test[r:r + 1].float().to(device)\n",
        "        T_single_data = T_test[r:r + 1].to(device)  \n",
        "\n",
        "        if (T_single_data.item()==0) :\n",
        "          print('Label: P0W0 ')\n",
        "        elif(T_single_data.item()==1) :\n",
        "          print('Label: P1W1 ')\n",
        "        elif(T_single_data.item()==2) :\n",
        "          print('Label: P9W7 ')\n",
        "        elif(T_single_data.item()==3) :\n",
        "          print('Label: P14W0 ')\n",
        "        else :\n",
        "          print(T_single_data.item())\n",
        "\n",
        "        single_output = model(X_single_data)\n",
        "\n",
        "        if (torch.argmax(single_output, 1).item()==0) :\n",
        "          print('Prediction: P0W0 ')\n",
        "        elif(torch.argmax(single_output, 1).item()==1) :\n",
        "          print('Prediction: P1W1 ')\n",
        "        elif(torch.argmax(single_output, 1).item()==2) :\n",
        "          print('Prediction: P9W7 ')\n",
        "        elif(torch.argmax(single_output, 1).item()==3) :\n",
        "          print('Prediction: P14W0 ')\n",
        "        else :\n",
        "          print(torch.argmax(single_output, 1).item())\n"
      ],
      "execution_count": 0,
      "outputs": [
        {
          "output_type": "stream",
          "text": [
            "Accuracy: 0.945\n",
            "Label: P9W7 \n",
            "Prediction: P9W7 \n"
          ],
          "name": "stdout"
        }
      ]
    },
    {
      "cell_type": "code",
      "metadata": {
        "id": "0ilFDWJIYwDa",
        "colab_type": "code",
        "colab": {}
      },
      "source": [
        ""
      ],
      "execution_count": 0,
      "outputs": []
    }
  ]
}